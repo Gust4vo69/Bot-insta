{
 "cells": [
  {
   "cell_type": "code",
   "execution_count": 174,
   "source": [
    "from selenium import webdriver\r\n",
    "from selenium.webdriver.common.keys import Keys\r\n",
    "import time\r\n",
    "import random\r\n",
    "\r\n",
    "navegador = webdriver.Chrome()"
   ],
   "outputs": [],
   "metadata": {}
  },
  {
   "cell_type": "code",
   "execution_count": 175,
   "source": [
    "navegador.get(\"https://www.instagram.com/\")\r\n",
    "time.sleep(2)"
   ],
   "outputs": [],
   "metadata": {}
  },
  {
   "cell_type": "code",
   "execution_count": 176,
   "source": [
    "username = navegador.find_element_by_name(\"username\")\r\n",
    "time.sleep(1)"
   ],
   "outputs": [],
   "metadata": {}
  },
  {
   "cell_type": "code",
   "execution_count": 177,
   "source": [
    "password = navegador.find_element_by_xpath(\"//input[@name='password']\")\r\n",
    "password.clear()\r\n",
    "time.sleep(1)"
   ],
   "outputs": [],
   "metadata": {}
  },
  {
   "cell_type": "code",
   "execution_count": 178,
   "source": [
    "username.send_keys(\"gandrade180\")\r\n",
    "time.sleep(1)"
   ],
   "outputs": [],
   "metadata": {}
  },
  {
   "cell_type": "code",
   "execution_count": 179,
   "source": [
    "password.send_keys(\"Exkheg35154950*\")\r\n",
    "time.sleep(1)"
   ],
   "outputs": [],
   "metadata": {}
  },
  {
   "cell_type": "code",
   "execution_count": 180,
   "source": [
    "login_button = navegador.find_element_by_xpath('//*[@id=\"loginForm\"]/div/div[3]/button')\r\n",
    "login_button.click()\r\n",
    "time.sleep(4)\r\n"
   ],
   "outputs": [],
   "metadata": {}
  },
  {
   "cell_type": "code",
   "execution_count": 181,
   "source": [
    "save_button = navegador.find_element_by_xpath('//*[@id=\"react-root\"]/section/main/div/div/div/div/button')\r\n",
    "save_button.click()                            \r\n",
    "time.sleep(3)"
   ],
   "outputs": [],
   "metadata": {}
  },
  {
   "cell_type": "code",
   "execution_count": 182,
   "source": [
    "noti_button = navegador.find_element_by_xpath('/html/body/div[5]/div/div/div/div[3]/button[2]')\r\n",
    "noti_button.click()                            "
   ],
   "outputs": [],
   "metadata": {}
  },
  {
   "cell_type": "code",
   "execution_count": 183,
   "source": [
    "\r\n",
    "navegador.get(\"https://www.instagram.com/p/CUQy9AklOjJ/\")"
   ],
   "outputs": [],
   "metadata": {}
  },
  {
   "cell_type": "code",
   "execution_count": null,
   "source": [
    "comentarios = [\"@fernanda_gzn\", \"@gandrade180\"] #aqui vai o que será comentado, pode ser tanto uma marcação como um comentario qualquer\r\n",
    "\r\n",
    "\r\n",
    "\r\n",
    "for sText in comentarios:              \r\n",
    "                #identifica e clica no campo de mensagem\r\n",
    "                navegador.find_element_by_class_name('Ypffh').click()  \r\n",
    "                coment_space = navegador.find_element_by_class_name('Ypffh')\r\n",
    "                \r\n",
    "                time.sleep(1)\r\n",
    "                coment_space.send_keys(sText)\r\n",
    "                time.sleep(2)\r\n",
    "                coment_space.send_keys(Keys.SPACE)\r\n",
    "                time.sleep(2)\r\n",
    "                navegador.find_element_by_xpath(\"//button[contains(text(), 'Publicar')]\").click()\r\n",
    "                i= i + 1\r\n",
    "                time.sleep(5)\r\n",
    "\r\n"
   ],
   "outputs": [],
   "metadata": {}
  }
 ],
 "metadata": {
  "kernelspec": {
   "name": "python3",
   "display_name": "Python 3.8.8 64-bit ('base': conda)"
  },
  "language_info": {
   "codemirror_mode": {
    "name": "ipython",
    "version": 3
   },
   "file_extension": ".py",
   "mimetype": "text/x-python",
   "name": "python",
   "nbconvert_exporter": "python",
   "pygments_lexer": "ipython3",
   "version": "3.8.8"
  },
  "interpreter": {
   "hash": "b80ef687dd9cffedff344d4e351cda12ad79d42fbfde391e8f6877b38e972d94"
  }
 },
 "nbformat": 4,
 "nbformat_minor": 5
}